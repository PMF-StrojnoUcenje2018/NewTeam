{
 "cells": [
  {
   "cell_type": "code",
   "execution_count": 9,
   "metadata": {},
   "outputs": [],
   "source": [
    "%matplotlib inline\n",
    "import numpy as np\n",
    "import pandas as pd\n",
    "\n",
    "from sklearn.model_selection import train_test_split\n",
    "from sklearn.ensemble import RandomForestClassifier"
   ]
  },
  {
   "cell_type": "code",
   "execution_count": 10,
   "metadata": {},
   "outputs": [
    {
     "name": "stdout",
     "output_type": "stream",
     "text": [
      "Number of features:   52\n"
     ]
    }
   ],
   "source": [
    "#učitavanje u DataFrame podaci iz csv datoteke\n",
    "podaci = pd.read_csv('df.csv')\n",
    "\n",
    "podaci.drop('name', axis=1, inplace=True)\n",
    "\n",
    "\n",
    "#ako ne napravimo swap, radimo klasifikaciju po tome je li ili nije packer\n",
    "key = 'is packer'\n",
    "keyOut = 'packer type'\n",
    "\n",
    "#swap ------> radimo klasifikaciju po 'packer type'\n",
    "#key,keyOut = keyOut,key\n",
    "\n",
    "#naknadno izbačeni featuresi\n",
    "podaci.drop('log_max_heap_reserve', axis=1, inplace=True)\n",
    "podaci.drop('log_repeated_entry_sizes', axis=1, inplace=True)\n",
    "podaci.drop('non_empty_metadatas', axis=1, inplace=True)\n",
    "podaci.drop('certificate', axis=1, inplace=True)\n",
    "podaci.drop('cert_malformed', axis=1, inplace=True)\n",
    "podaci.drop('rich_header_valid', axis=1, inplace=True)\n",
    "podaci.drop('max_opt_header_size', axis=1, inplace=True)\n",
    "\n",
    "\n",
    "names = np.arange(podaci.shape[0])\n",
    "trening_skup, test_skup, train_ind, test_ind = train_test_split(podaci.drop(keyOut, axis=1),names, test_size=0.34, random_state=0)\n",
    "\n",
    "print('Number of features:  ', len(list(trening_skup))-1)"
   ]
  },
  {
   "cell_type": "code",
   "execution_count": 11,
   "metadata": {},
   "outputs": [],
   "source": [
    "#oznake za podatke\n",
    "Y = trening_skup[key]\n",
    "\n",
    "#podaci\n",
    "X = trening_skup.drop(key, axis=1)"
   ]
  },
  {
   "cell_type": "markdown",
   "metadata": {},
   "source": [
    "# Promijenjeni defaultni parametri za RandomForest"
   ]
  },
  {
   "cell_type": "markdown",
   "metadata": {},
   "source": [
    "|      PARAMETAR          |    IZNOS               | DEFAULT           |\n",
    "|-------------------------|------------------------|-------------------|\n",
    "| <b>n_estimators</b>     | <b>800</b>             |  <b>10</b>        |           \n",
    "| <b>criterion</b>        | <b>entropy</b>         |  <b>gini</b>      |         \n",
    "| <b>min_samples_split</b>| <b>4</b>               |  <b>2</b>         |                  \n",
    "| <b>bootstrap</b>        | <b>False</b>           |  <b>True</b>      |          \n",
    "| <b>n_jobs</b>           | <b>-1</b>              |  <b>1</b>         |          \n",
    "| <b>random_state</b>     | <b>42</b>              |  <b>random</b>    |          "
   ]
  },
  {
   "cell_type": "code",
   "execution_count": 12,
   "metadata": {},
   "outputs": [
    {
     "name": "stdout",
     "output_type": "stream",
     "text": [
      "Broj test primjeraka: 14887\n",
      "Broj točno klasificiranih: 14819\n",
      "Točnost: 99.54322563310271%\n"
     ]
    }
   ],
   "source": [
    "# Model\n",
    "rfc = RandomForestClassifier(n_estimators=800, \n",
    "                             random_state=42, \n",
    "                             criterion = 'entropy',#default='gini' \n",
    "                             min_samples_split =4, #default=2\n",
    "                             bootstrap = False,    #uzorkovanje bez ponavljanja\n",
    "                              \n",
    "                             n_jobs=-1, #rad na maksimalnom broju procesora\n",
    "                            )\n",
    "\n",
    "# Training\n",
    "rfc.fit(X, Y);\n",
    "\n",
    "rezultati = rfc.predict(test_skup.drop(key, axis=1))\n",
    "\n",
    "broj_testnih_primjeraka = len(test_skup.index)\n",
    "print('Broj test primjeraka: ' + str(broj_testnih_primjeraka))\n",
    "broj_tocno_klasificiranih = sum(rezultati == test_skup[key])\n",
    "print('Broj točno klasificiranih: ' + str(broj_tocno_klasificiranih))\n",
    "tocnost = broj_tocno_klasificiranih/broj_testnih_primjeraka\n",
    "print('Točnost: '+str(tocnost*100)+'%')"
   ]
  },
  {
   "cell_type": "code",
   "execution_count": 13,
   "metadata": {},
   "outputs": [
    {
     "data": {
      "text/html": [
       "<div>\n",
       "<style scoped>\n",
       "    .dataframe tbody tr th:only-of-type {\n",
       "        vertical-align: middle;\n",
       "    }\n",
       "\n",
       "    .dataframe tbody tr th {\n",
       "        vertical-align: top;\n",
       "    }\n",
       "\n",
       "    .dataframe thead th {\n",
       "        text-align: right;\n",
       "    }\n",
       "</style>\n",
       "<table border=\"1\" class=\"dataframe\">\n",
       "  <thead>\n",
       "    <tr style=\"text-align: right;\">\n",
       "      <th>prediction</th>\n",
       "      <th>False</th>\n",
       "      <th>True</th>\n",
       "    </tr>\n",
       "    <tr>\n",
       "      <th>original</th>\n",
       "      <th></th>\n",
       "      <th></th>\n",
       "    </tr>\n",
       "  </thead>\n",
       "  <tbody>\n",
       "    <tr>\n",
       "      <th>False</th>\n",
       "      <td>7371</td>\n",
       "      <td>18</td>\n",
       "    </tr>\n",
       "    <tr>\n",
       "      <th>True</th>\n",
       "      <td>50</td>\n",
       "      <td>7448</td>\n",
       "    </tr>\n",
       "  </tbody>\n",
       "</table>\n",
       "</div>"
      ],
      "text/plain": [
       "prediction  False  True \n",
       "original                \n",
       "False        7371     18\n",
       "True           50   7448"
      ]
     },
     "execution_count": 13,
     "metadata": {},
     "output_type": "execute_result"
    }
   ],
   "source": [
    "podaciProba = {'prediction' : rezultati,\n",
    "              'original' : test_skup[key]}\n",
    "podaciProba = pd.DataFrame(podaciProba)\n",
    "tablica = pd.crosstab(podaciProba['original'], podaciProba['prediction'])\n",
    "\n",
    "tablica"
   ]
  },
  {
   "cell_type": "code",
   "execution_count": 14,
   "metadata": {},
   "outputs": [
    {
     "data": {
      "text/html": [
       "<div>\n",
       "<style scoped>\n",
       "    .dataframe tbody tr th:only-of-type {\n",
       "        vertical-align: middle;\n",
       "    }\n",
       "\n",
       "    .dataframe tbody tr th {\n",
       "        vertical-align: top;\n",
       "    }\n",
       "\n",
       "    .dataframe thead th {\n",
       "        text-align: right;\n",
       "    }\n",
       "</style>\n",
       "<table border=\"1\" class=\"dataframe\">\n",
       "  <thead>\n",
       "    <tr style=\"text-align: right;\">\n",
       "      <th>prediction</th>\n",
       "      <th>False</th>\n",
       "      <th>True</th>\n",
       "    </tr>\n",
       "    <tr>\n",
       "      <th>original</th>\n",
       "      <th></th>\n",
       "      <th></th>\n",
       "    </tr>\n",
       "  </thead>\n",
       "  <tbody>\n",
       "    <tr>\n",
       "      <th>t0</th>\n",
       "      <td>7371</td>\n",
       "      <td>18</td>\n",
       "    </tr>\n",
       "    <tr>\n",
       "      <th>t1</th>\n",
       "      <td>33</td>\n",
       "      <td>640</td>\n",
       "    </tr>\n",
       "    <tr>\n",
       "      <th>t2</th>\n",
       "      <td>10</td>\n",
       "      <td>688</td>\n",
       "    </tr>\n",
       "    <tr>\n",
       "      <th>t3</th>\n",
       "      <td>5</td>\n",
       "      <td>5013</td>\n",
       "    </tr>\n",
       "    <tr>\n",
       "      <th>t4</th>\n",
       "      <td>2</td>\n",
       "      <td>1107</td>\n",
       "    </tr>\n",
       "  </tbody>\n",
       "</table>\n",
       "</div>"
      ],
      "text/plain": [
       "prediction  False  True \n",
       "original                \n",
       "t0           7371     18\n",
       "t1             33    640\n",
       "t2             10    688\n",
       "t3              5   5013\n",
       "t4              2   1107"
      ]
     },
     "metadata": {},
     "output_type": "display_data"
    },
    {
     "name": "stdout",
     "output_type": "stream",
     "text": [
      "\n",
      "\n",
      "\u001b[1mPostotci po tipu packera:\u001b[0m\n"
     ]
    },
    {
     "data": {
      "text/html": [
       "<div>\n",
       "<style scoped>\n",
       "    .dataframe tbody tr th:only-of-type {\n",
       "        vertical-align: middle;\n",
       "    }\n",
       "\n",
       "    .dataframe tbody tr th {\n",
       "        vertical-align: top;\n",
       "    }\n",
       "\n",
       "    .dataframe thead th {\n",
       "        text-align: right;\n",
       "    }\n",
       "</style>\n",
       "<table border=\"1\" class=\"dataframe\">\n",
       "  <thead>\n",
       "    <tr style=\"text-align: right;\">\n",
       "      <th></th>\n",
       "      <th>False</th>\n",
       "      <th>True</th>\n",
       "      <th>Ukupno</th>\n",
       "    </tr>\n",
       "    <tr>\n",
       "      <th>original</th>\n",
       "      <th></th>\n",
       "      <th></th>\n",
       "      <th></th>\n",
       "    </tr>\n",
       "  </thead>\n",
       "  <tbody>\n",
       "    <tr>\n",
       "      <th>t0</th>\n",
       "      <td>99.756395</td>\n",
       "      <td>0.243605</td>\n",
       "      <td>100.0</td>\n",
       "    </tr>\n",
       "    <tr>\n",
       "      <th>t1</th>\n",
       "      <td>4.903418</td>\n",
       "      <td>95.096582</td>\n",
       "      <td>100.0</td>\n",
       "    </tr>\n",
       "    <tr>\n",
       "      <th>t2</th>\n",
       "      <td>1.432665</td>\n",
       "      <td>98.567335</td>\n",
       "      <td>100.0</td>\n",
       "    </tr>\n",
       "    <tr>\n",
       "      <th>t3</th>\n",
       "      <td>0.099641</td>\n",
       "      <td>99.900359</td>\n",
       "      <td>100.0</td>\n",
       "    </tr>\n",
       "    <tr>\n",
       "      <th>t4</th>\n",
       "      <td>0.180343</td>\n",
       "      <td>99.819657</td>\n",
       "      <td>100.0</td>\n",
       "    </tr>\n",
       "  </tbody>\n",
       "</table>\n",
       "</div>"
      ],
      "text/plain": [
       "              False       True  Ukupno\n",
       "original                              \n",
       "t0        99.756395   0.243605   100.0\n",
       "t1         4.903418  95.096582   100.0\n",
       "t2         1.432665  98.567335   100.0\n",
       "t3         0.099641  99.900359   100.0\n",
       "t4         0.180343  99.819657   100.0"
      ]
     },
     "metadata": {},
     "output_type": "display_data"
    }
   ],
   "source": [
    "if key=='is packer':\n",
    "   \n",
    "    podaciProba = {'prediction' : rezultati,\n",
    "                   'original' : podaci['packer type'][test_ind]}\n",
    "    podaciProba = pd.DataFrame(podaciProba)\n",
    "    tablica = pd.crosstab(podaciProba['original'], podaciProba['prediction'])\n",
    "    \n",
    "    \n",
    "else:\n",
    "    prediction_is_packer = rezultati.copy()\n",
    "    prediction_is_packer[prediction_is_packer != 't0'] = 'packer'\n",
    "    prediction_is_packer[prediction_is_packer == 't0'] = 'not packer'\n",
    "    \n",
    "\n",
    "    podaciProba = {'prediction' : prediction_is_packer,\n",
    "                   'original' : podaci['packer type'][test_ind]}\n",
    "    podaciProba = pd.DataFrame(podaciProba)\n",
    "    tablica = pd.crosstab(podaciProba['original'], podaciProba['prediction'])\n",
    "\n",
    "#tablica.plot.bar()\n",
    "display(tablica)\n",
    "#postoci po klasama\n",
    "column1 = tablica[0]/tablica.apply(sum, axis=1) * 100\n",
    "column2 = tablica[1]/tablica.apply(sum, axis=1) * 100\n",
    "\n",
    "column3 = column1 + column2\n",
    "\n",
    "d = {'False': column1, 'True': column2, 'Ukupno': column3}\n",
    "df = pd.DataFrame(data=d)\n",
    "print('\\n\\n' + '\\033[1m' + 'Postotci po tipu packera:' + '\\033[0m')\n",
    "display(df)"
   ]
  },
  {
   "cell_type": "code",
   "execution_count": 15,
   "metadata": {},
   "outputs": [
    {
     "name": "stdout",
     "output_type": "stream",
     "text": [
      "Bodovi za kvalitetu rjesenja 7.671070313276444\n"
     ]
    }
   ],
   "source": [
    "r_not_packed = column1[0]/100\n",
    "#print(r_not_packed)\n",
    "r_overlay_and_cripters = (tablica[1][1] + tablica[1][2])/(tablica[0][1] + tablica[0][2]+tablica[1][1] + tablica[1][2])\n",
    "#print(r_overlay_and_cripters)\n",
    "r_protectors = column2[3]/100\n",
    "#print(r_protectors)\n",
    "r_compress = column2[4]/100\n",
    "#print(r_compress)\n",
    "\n",
    "bodovi = 8 * r_not_packed**3 * r_overlay_and_cripters * r_protectors * r_compress\n",
    "print('Bodovi za kvalitetu rjesenja '+str(bodovi))"
   ]
  },
  {
   "cell_type": "code",
   "execution_count": null,
   "metadata": {},
   "outputs": [],
   "source": []
  }
 ],
 "metadata": {
  "kernelspec": {
   "display_name": "Python 3",
   "language": "python",
   "name": "python3"
  },
  "language_info": {
   "codemirror_mode": {
    "name": "ipython",
    "version": 3
   },
   "file_extension": ".py",
   "mimetype": "text/x-python",
   "name": "python",
   "nbconvert_exporter": "python",
   "pygments_lexer": "ipython3",
   "version": "3.6.4"
  }
 },
 "nbformat": 4,
 "nbformat_minor": 2
}
