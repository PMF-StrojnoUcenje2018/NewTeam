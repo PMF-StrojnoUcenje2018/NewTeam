{
 "cells": [
  {
   "cell_type": "code",
   "execution_count": 1,
   "metadata": {},
   "outputs": [],
   "source": [
    "import numpy as np\n",
    "import pandas as pd\n",
    "\n",
    "from sklearn.model_selection import GridSearchCV\n",
    "\n",
    "from sklearn.ensemble import RandomForestClassifier"
   ]
  },
  {
   "cell_type": "code",
   "execution_count": 2,
   "metadata": {},
   "outputs": [],
   "source": [
    "model_full = pd.read_csv('df.csv')\n",
    "    \n",
    "    \n",
    "key = 'is packer'\n",
    "keyOut = 'packer type'\n",
    "\n",
    "response_column = key\n",
    "feature_columns = list(model_full)\n",
    "feature_columns.remove('name')\n",
    "feature_columns.remove(key)\n",
    "feature_columns.remove(keyOut)\n",
    "    \n",
    "#naknadno izbačeni featuresi\n",
    "feature_columns.remove('log_max_heap_reserve')\n",
    "feature_columns.remove('log_repeated_entry_sizes')\n",
    "feature_columns.remove('non_empty_metadatas')\n",
    "feature_columns.remove('certificate')\n",
    "feature_columns.remove('cert_malformed')\n",
    "feature_columns.remove('rich_header_valid')\n",
    "feature_columns.remove('max_opt_header_size')\n",
    "   \n",
    "n_features = len(feature_columns)\n",
    "\n",
    "\n",
    "X = model_full[feature_columns]\n",
    "y = model_full[response_column]"
   ]
  },
  {
   "cell_type": "code",
   "execution_count": 3,
   "metadata": {},
   "outputs": [],
   "source": [
    "# build a classifier\n",
    "clf = RandomForestClassifier(n_jobs = -1)"
   ]
  },
  {
   "cell_type": "code",
   "execution_count": 4,
   "metadata": {},
   "outputs": [],
   "source": [
    "# Najbolja tri klasifikatora\n",
    "def report(results, n_top=3):\n",
    "    for i in range(1, n_top + 1):\n",
    "        candidates = np.flatnonzero(results['rank_test_score'] == i)\n",
    "        for candidate in candidates:\n",
    "            print(\"Model with rank: {0}\".format(i))\n",
    "            print(\"Mean validation score: {0:.5f} (std: {1:.5f})\".format(\n",
    "                  results['mean_test_score'][candidate],\n",
    "                  results['std_test_score'][candidate]))\n",
    "            print(\"Parameters: {0}\".format(results['params'][candidate]))\n",
    "            print(\"\")\n",
    "\n"
   ]
  },
  {
   "cell_type": "code",
   "execution_count": null,
   "metadata": {},
   "outputs": [
    {
     "name": "stdout",
     "output_type": "stream",
     "text": [
      "Fitting 3 folds for each of 1 candidates, totalling 3 fits\n",
      "[CV] bootstrap=False, criterion=entropy, max_features=sqrt, min_samples_split=4, n_estimators=800, random_state=42 \n"
     ]
    }
   ],
   "source": [
    "%%time\n",
    "# use a full grid over all parameters\n",
    "param_grid = {\"n_estimators\": [800], \n",
    "              \"random_state\": [42],\n",
    "              \"min_samples_split\": [4],\n",
    "              \"criterion\": [\"entropy\"],\n",
    "              \"max_features\": ['sqrt'],\n",
    "              \"bootstrap\": [False],}\n",
    "# run grid search\n",
    "grid_search = GridSearchCV(clf, param_grid=param_grid, verbose = 2)\n",
    "\n",
    "grid_search.fit(X, y)\n",
    "\n",
    "\n",
    "report(grid_search.cv_results_)"
   ]
  },
  {
   "cell_type": "code",
   "execution_count": null,
   "metadata": {},
   "outputs": [],
   "source": []
  }
 ],
 "metadata": {
  "kernelspec": {
   "display_name": "Python 3",
   "language": "python",
   "name": "python3"
  },
  "language_info": {
   "codemirror_mode": {
    "name": "ipython",
    "version": 3
   },
   "file_extension": ".py",
   "mimetype": "text/x-python",
   "name": "python",
   "nbconvert_exporter": "python",
   "pygments_lexer": "ipython3",
   "version": "3.6.4"
  }
 },
 "nbformat": 4,
 "nbformat_minor": 2
}
