{
 "cells": [
  {
   "cell_type": "code",
   "execution_count": 1,
   "metadata": {},
   "outputs": [],
   "source": [
    "import numpy as np\n",
    "import pandas as pd\n",
    "import pickle\n",
    "\n",
    "from sklearn.ensemble import RandomForestClassifier"
   ]
  },
  {
   "cell_type": "code",
   "execution_count": 2,
   "metadata": {},
   "outputs": [
    {
     "name": "stdout",
     "output_type": "stream",
     "text": [
      "Number of features:   52\n"
     ]
    }
   ],
   "source": [
    "#Svi podaci\n",
    "podaci = pd.read_csv('df.csv')\n",
    "\n",
    "podaci.drop('name',                     axis=1, inplace=True)\n",
    "podaci.drop('packer type',              axis=1, inplace=True)\n",
    "\n",
    "#naknadno izbačeni featuresi\n",
    "podaci.drop('log_max_heap_reserve',     axis=1, inplace=True)\n",
    "podaci.drop('log_repeated_entry_sizes', axis=1, inplace=True)\n",
    "podaci.drop('non_empty_metadatas',      axis=1, inplace=True)\n",
    "podaci.drop('certificate',              axis=1, inplace=True)\n",
    "podaci.drop('cert_malformed',           axis=1, inplace=True)\n",
    "podaci.drop('rich_header_valid',        axis=1, inplace=True)\n",
    "podaci.drop('max_opt_header_size',      axis=1, inplace=True)\n",
    "\n",
    "\n",
    "#podaci\n",
    "X = podaci.drop('is packer', axis=1)\n",
    "#oznake za podatke\n",
    "Y = podaci['is packer']\n",
    "\n",
    "print('Number of features:  ', len(list(podaci))-1)"
   ]
  },
  {
   "cell_type": "code",
   "execution_count": 3,
   "metadata": {},
   "outputs": [],
   "source": [
    "# Model\n",
    "model = RandomForestClassifier(n_estimators=800, \n",
    "                             random_state=42, \n",
    "                             criterion = 'entropy',#default='gini' \n",
    "                             min_samples_split =4, #default=2\n",
    "                             bootstrap = False,    #uzorkovanje bez ponavljanja\n",
    "                              \n",
    "                             n_jobs=-1, #rad na maksimalnom broju procesora\n",
    "                            )\n",
    "\n",
    "# Training\n",
    "model.fit(X, Y);"
   ]
  },
  {
   "cell_type": "code",
   "execution_count": 4,
   "metadata": {},
   "outputs": [],
   "source": [
    "#Save model\n",
    "filename = 'TrainedModel.sav'\n",
    "pickle.dump(model, open(filename, 'wb'))"
   ]
  }
 ],
 "metadata": {
  "kernelspec": {
   "display_name": "Python 3",
   "language": "python",
   "name": "python3"
  },
  "language_info": {
   "codemirror_mode": {
    "name": "ipython",
    "version": 3
   },
   "file_extension": ".py",
   "mimetype": "text/x-python",
   "name": "python",
   "nbconvert_exporter": "python",
   "pygments_lexer": "ipython3",
   "version": "3.6.4"
  }
 },
 "nbformat": 4,
 "nbformat_minor": 2
}
